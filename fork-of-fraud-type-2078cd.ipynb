{
 "cells": [
  {
   "cell_type": "markdown",
   "id": "f74d3366",
   "metadata": {
    "papermill": {
     "duration": 0.008191,
     "end_time": "2024-09-27T14:25:49.546746",
     "exception": false,
     "start_time": "2024-09-27T14:25:49.538555",
     "status": "completed"
    },
    "tags": []
   },
   "source": [
    "# Load the dataset"
   ]
  },
  {
   "cell_type": "code",
   "execution_count": 1,
   "id": "dc85d151",
   "metadata": {
    "_cell_guid": "b1076dfc-b9ad-4769-8c92-a6c4dae69d19",
    "_uuid": "8f2839f25d086af736a60e9eeb907d3b93b6e0e5",
    "execution": {
     "iopub.execute_input": "2024-09-27T14:25:49.563910Z",
     "iopub.status.busy": "2024-09-27T14:25:49.563390Z",
     "iopub.status.idle": "2024-09-27T14:25:50.475146Z",
     "shell.execute_reply": "2024-09-27T14:25:50.473956Z"
    },
    "papermill": {
     "duration": 0.92297,
     "end_time": "2024-09-27T14:25:50.477383",
     "exception": false,
     "start_time": "2024-09-27T14:25:49.554413",
     "status": "completed"
    },
    "tags": []
   },
   "outputs": [
    {
     "name": "stdout",
     "output_type": "stream",
     "text": [
      "<class 'pandas.core.frame.DataFrame'>\n",
      "RangeIndex: 7953 entries, 0 to 7952\n",
      "Data columns (total 11 columns):\n",
      " #   Column             Non-Null Count  Dtype  \n",
      "---  ------             --------------  -----  \n",
      " 0   transaction_id     7478 non-null   float64\n",
      " 1   customer_id        7532 non-null   float64\n",
      " 2   merchant_id        7481 non-null   float64\n",
      " 3   amount             7261 non-null   float64\n",
      " 4   transaction_time   7385 non-null   object \n",
      " 5   is_fraudulent      7228 non-null   float64\n",
      " 6   card_type          7386 non-null   object \n",
      " 7   location           7430 non-null   object \n",
      " 8   purchase_category  7421 non-null   object \n",
      " 9   customer_age       7285 non-null   float64\n",
      " 10  fraud_type         7455 non-null   object \n",
      "dtypes: float64(6), object(5)\n",
      "memory usage: 683.6+ KB\n"
     ]
    }
   ],
   "source": [
    "import numpy as np \n",
    "import pandas as pd\n",
    "df=pd.read_csv('/kaggle/input/comprehensive-indian-online-fraud-dataset/Updated_Inclusive_Indian_Online_Scam_Dataset (1).csv')\n",
    "df.info()"
   ]
  },
  {
   "cell_type": "code",
   "execution_count": 2,
   "id": "738c8218",
   "metadata": {
    "execution": {
     "iopub.execute_input": "2024-09-27T14:25:50.494176Z",
     "iopub.status.busy": "2024-09-27T14:25:50.493774Z",
     "iopub.status.idle": "2024-09-27T14:25:50.505813Z",
     "shell.execute_reply": "2024-09-27T14:25:50.504744Z"
    },
    "papermill": {
     "duration": 0.023245,
     "end_time": "2024-09-27T14:25:50.508290",
     "exception": false,
     "start_time": "2024-09-27T14:25:50.485045",
     "status": "completed"
    },
    "tags": []
   },
   "outputs": [
    {
     "data": {
      "text/plain": [
       "transaction_id       475\n",
       "customer_id          421\n",
       "merchant_id          472\n",
       "amount               692\n",
       "transaction_time     568\n",
       "is_fraudulent        725\n",
       "card_type            567\n",
       "location             523\n",
       "purchase_category    532\n",
       "customer_age         668\n",
       "fraud_type           498\n",
       "dtype: int64"
      ]
     },
     "execution_count": 2,
     "metadata": {},
     "output_type": "execute_result"
    }
   ],
   "source": [
    "df.isna().sum()"
   ]
  },
  {
   "cell_type": "code",
   "execution_count": 3,
   "id": "a8754d83",
   "metadata": {
    "execution": {
     "iopub.execute_input": "2024-09-27T14:25:50.525795Z",
     "iopub.status.busy": "2024-09-27T14:25:50.524978Z",
     "iopub.status.idle": "2024-09-27T14:25:50.536364Z",
     "shell.execute_reply": "2024-09-27T14:25:50.535379Z"
    },
    "papermill": {
     "duration": 0.022751,
     "end_time": "2024-09-27T14:25:50.538831",
     "exception": false,
     "start_time": "2024-09-27T14:25:50.516080",
     "status": "completed"
    },
    "tags": []
   },
   "outputs": [],
   "source": [
    "df.dropna(inplace=True)"
   ]
  },
  {
   "cell_type": "code",
   "execution_count": 4,
   "id": "6f081b69",
   "metadata": {
    "execution": {
     "iopub.execute_input": "2024-09-27T14:25:50.557323Z",
     "iopub.status.busy": "2024-09-27T14:25:50.556558Z",
     "iopub.status.idle": "2024-09-27T14:25:50.563768Z",
     "shell.execute_reply": "2024-09-27T14:25:50.562646Z"
    },
    "papermill": {
     "duration": 0.018662,
     "end_time": "2024-09-27T14:25:50.566092",
     "exception": false,
     "start_time": "2024-09-27T14:25:50.547430",
     "status": "completed"
    },
    "tags": []
   },
   "outputs": [
    {
     "data": {
      "text/plain": [
       "Index(['transaction_id', 'customer_id', 'merchant_id', 'amount',\n",
       "       'transaction_time', 'is_fraudulent', 'card_type', 'location',\n",
       "       'purchase_category', 'customer_age', 'fraud_type'],\n",
       "      dtype='object')"
      ]
     },
     "execution_count": 4,
     "metadata": {},
     "output_type": "execute_result"
    }
   ],
   "source": [
    "df.columns"
   ]
  },
  {
   "cell_type": "code",
   "execution_count": 5,
   "id": "8426a9ca",
   "metadata": {
    "execution": {
     "iopub.execute_input": "2024-09-27T14:25:50.583458Z",
     "iopub.status.busy": "2024-09-27T14:25:50.583061Z",
     "iopub.status.idle": "2024-09-27T14:25:50.591283Z",
     "shell.execute_reply": "2024-09-27T14:25:50.590057Z"
    },
    "papermill": {
     "duration": 0.019697,
     "end_time": "2024-09-27T14:25:50.593662",
     "exception": false,
     "start_time": "2024-09-27T14:25:50.573965",
     "status": "completed"
    },
    "tags": []
   },
   "outputs": [
    {
     "name": "stdout",
     "output_type": "stream",
     "text": [
      "['MasterCard' 'Visa' 'Rupay']\n",
      "['Surat' 'Hyderabad' 'Kolkata' 'Mumbai' 'Delhi' 'Chennai' 'Jaipur'\n",
      " 'Ahmedabad' 'Bangalore' 'Pune']\n",
      "['POS' 'Digital']\n"
     ]
    }
   ],
   "source": [
    "for i in ['card_type', 'location', 'purchase_category']:\n",
    "    print(df[i].unique())"
   ]
  },
  {
   "cell_type": "code",
   "execution_count": 6,
   "id": "0fa43213",
   "metadata": {
    "execution": {
     "iopub.execute_input": "2024-09-27T14:25:50.611330Z",
     "iopub.status.busy": "2024-09-27T14:25:50.610909Z",
     "iopub.status.idle": "2024-09-27T14:25:50.632938Z",
     "shell.execute_reply": "2024-09-27T14:25:50.631810Z"
    },
    "papermill": {
     "duration": 0.033634,
     "end_time": "2024-09-27T14:25:50.635352",
     "exception": false,
     "start_time": "2024-09-27T14:25:50.601718",
     "status": "completed"
    },
    "tags": []
   },
   "outputs": [
    {
     "data": {
      "text/html": [
       "<div>\n",
       "<style scoped>\n",
       "    .dataframe tbody tr th:only-of-type {\n",
       "        vertical-align: middle;\n",
       "    }\n",
       "\n",
       "    .dataframe tbody tr th {\n",
       "        vertical-align: top;\n",
       "    }\n",
       "\n",
       "    .dataframe thead th {\n",
       "        text-align: right;\n",
       "    }\n",
       "</style>\n",
       "<table border=\"1\" class=\"dataframe\">\n",
       "  <thead>\n",
       "    <tr style=\"text-align: right;\">\n",
       "      <th></th>\n",
       "      <th>transaction_id</th>\n",
       "      <th>customer_id</th>\n",
       "      <th>merchant_id</th>\n",
       "      <th>amount</th>\n",
       "      <th>transaction_time</th>\n",
       "      <th>is_fraudulent</th>\n",
       "      <th>card_type</th>\n",
       "      <th>location</th>\n",
       "      <th>purchase_category</th>\n",
       "      <th>customer_age</th>\n",
       "      <th>fraud_type</th>\n",
       "    </tr>\n",
       "  </thead>\n",
       "  <tbody>\n",
       "    <tr>\n",
       "      <th>1</th>\n",
       "      <td>2.0</td>\n",
       "      <td>447448.0</td>\n",
       "      <td>2046.0</td>\n",
       "      <td>2222.928</td>\n",
       "      <td>03/30/2024 16:18</td>\n",
       "      <td>0.0</td>\n",
       "      <td>MasterCard</td>\n",
       "      <td>Surat</td>\n",
       "      <td>POS</td>\n",
       "      <td>62.0</td>\n",
       "      <td>Malware</td>\n",
       "    </tr>\n",
       "    <tr>\n",
       "      <th>2</th>\n",
       "      <td>3.0</td>\n",
       "      <td>975001.0</td>\n",
       "      <td>2067.0</td>\n",
       "      <td>7509.832</td>\n",
       "      <td>03/07/2024 18:27</td>\n",
       "      <td>0.0</td>\n",
       "      <td>MasterCard</td>\n",
       "      <td>Hyderabad</td>\n",
       "      <td>POS</td>\n",
       "      <td>24.0</td>\n",
       "      <td>Malware</td>\n",
       "    </tr>\n",
       "    <tr>\n",
       "      <th>8</th>\n",
       "      <td>9.0</td>\n",
       "      <td>401388.0</td>\n",
       "      <td>2035.0</td>\n",
       "      <td>3904.200</td>\n",
       "      <td>01/09/2024 00:43</td>\n",
       "      <td>0.0</td>\n",
       "      <td>Visa</td>\n",
       "      <td>Kolkata</td>\n",
       "      <td>Digital</td>\n",
       "      <td>37.0</td>\n",
       "      <td>Malware</td>\n",
       "    </tr>\n",
       "    <tr>\n",
       "      <th>11</th>\n",
       "      <td>12.0</td>\n",
       "      <td>620576.0</td>\n",
       "      <td>2042.0</td>\n",
       "      <td>8069.630</td>\n",
       "      <td>12/17/2023 07:43</td>\n",
       "      <td>0.0</td>\n",
       "      <td>Rupay</td>\n",
       "      <td>Hyderabad</td>\n",
       "      <td>POS</td>\n",
       "      <td>33.0</td>\n",
       "      <td>Malware</td>\n",
       "    </tr>\n",
       "    <tr>\n",
       "      <th>14</th>\n",
       "      <td>15.0</td>\n",
       "      <td>679113.0</td>\n",
       "      <td>2019.0</td>\n",
       "      <td>11429.748</td>\n",
       "      <td>09/10/2023 23:01</td>\n",
       "      <td>1.0</td>\n",
       "      <td>Visa</td>\n",
       "      <td>Mumbai</td>\n",
       "      <td>Digital</td>\n",
       "      <td>24.0</td>\n",
       "      <td>Payment card fraud</td>\n",
       "    </tr>\n",
       "  </tbody>\n",
       "</table>\n",
       "</div>"
      ],
      "text/plain": [
       "    transaction_id  customer_id  merchant_id     amount  transaction_time  \\\n",
       "1              2.0     447448.0       2046.0   2222.928  03/30/2024 16:18   \n",
       "2              3.0     975001.0       2067.0   7509.832  03/07/2024 18:27   \n",
       "8              9.0     401388.0       2035.0   3904.200  01/09/2024 00:43   \n",
       "11            12.0     620576.0       2042.0   8069.630  12/17/2023 07:43   \n",
       "14            15.0     679113.0       2019.0  11429.748  09/10/2023 23:01   \n",
       "\n",
       "    is_fraudulent   card_type   location purchase_category  customer_age  \\\n",
       "1             0.0  MasterCard      Surat               POS          62.0   \n",
       "2             0.0  MasterCard  Hyderabad               POS          24.0   \n",
       "8             0.0        Visa    Kolkata           Digital          37.0   \n",
       "11            0.0       Rupay  Hyderabad               POS          33.0   \n",
       "14            1.0        Visa     Mumbai           Digital          24.0   \n",
       "\n",
       "            fraud_type  \n",
       "1              Malware  \n",
       "2              Malware  \n",
       "8              Malware  \n",
       "11             Malware  \n",
       "14  Payment card fraud  "
      ]
     },
     "execution_count": 6,
     "metadata": {},
     "output_type": "execute_result"
    }
   ],
   "source": [
    "df.head()"
   ]
  },
  {
   "cell_type": "code",
   "execution_count": 7,
   "id": "f0b0afd2",
   "metadata": {
    "execution": {
     "iopub.execute_input": "2024-09-27T14:25:50.653648Z",
     "iopub.status.busy": "2024-09-27T14:25:50.652882Z",
     "iopub.status.idle": "2024-09-27T14:25:52.466399Z",
     "shell.execute_reply": "2024-09-27T14:25:52.465388Z"
    },
    "papermill": {
     "duration": 1.825141,
     "end_time": "2024-09-27T14:25:52.468689",
     "exception": false,
     "start_time": "2024-09-27T14:25:50.643548",
     "status": "completed"
    },
    "tags": []
   },
   "outputs": [
    {
     "data": {
      "text/plain": [
       "<Axes: xlabel='is_fraudulent', ylabel='count'>"
      ]
     },
     "execution_count": 7,
     "metadata": {},
     "output_type": "execute_result"
    },
    {
     "data": {
      "image/png": "[encoded data removed]",
      "text/plain": [
       "<Figure size 640x480 with 1 Axes>"
      ]
     },
     "metadata": {},
     "output_type": "display_data"
    }
   ],
   "source": [
    "import seaborn as sns\n",
    "sns.countplot(df,x=df['is_fraudulent'])"
   ]
  },
  {
   "cell_type": "code",
   "execution_count": 8,
   "id": "50faa87d",
   "metadata": {
    "execution": {
     "iopub.execute_input": "2024-09-27T14:25:52.487266Z",
     "iopub.status.busy": "2024-09-27T14:25:52.486687Z",
     "iopub.status.idle": "2024-09-27T14:25:52.727777Z",
     "shell.execute_reply": "2024-09-27T14:25:52.726706Z"
    },
    "papermill": {
     "duration": 0.252911,
     "end_time": "2024-09-27T14:25:52.730078",
     "exception": false,
     "start_time": "2024-09-27T14:25:52.477167",
     "status": "completed"
    },
    "tags": []
   },
   "outputs": [
    {
     "data": {
      "text/plain": [
       "<Axes: xlabel='fraud_type', ylabel='count'>"
      ]
     },
     "execution_count": 8,
     "metadata": {},
     "output_type": "execute_result"
    },
    {
     "data": {
      "image/png": "[encoded data removed]",
      "text/plain": [
       "<Figure size 640x480 with 1 Axes>"
      ]
     },
     "metadata": {},
     "output_type": "display_data"
    }
   ],
   "source": [
    "sns.countplot(df,x=df['fraud_type'])"
   ]
  },
  {
   "cell_type": "markdown",
   "id": "cb0c2526",
   "metadata": {
    "papermill": {
     "duration": 0.009141,
     "end_time": "2024-09-27T14:25:52.748677",
     "exception": false,
     "start_time": "2024-09-27T14:25:52.739536",
     "status": "completed"
    },
    "tags": []
   },
   "source": [
    "Since there is no value as `NA` or `-` in the fraud_type column but value `0.0` exists in `is_fradulent` column,we assume that the fraud type gives the most probable type of fraud"
   ]
  },
  {
   "cell_type": "code",
   "execution_count": 9,
   "id": "e058769b",
   "metadata": {
    "execution": {
     "iopub.execute_input": "2024-09-27T14:25:52.769141Z",
     "iopub.status.busy": "2024-09-27T14:25:52.768108Z",
     "iopub.status.idle": "2024-09-27T14:25:52.775328Z",
     "shell.execute_reply": "2024-09-27T14:25:52.774103Z"
    },
    "papermill": {
     "duration": 0.019814,
     "end_time": "2024-09-27T14:25:52.777631",
     "exception": false,
     "start_time": "2024-09-27T14:25:52.757817",
     "status": "completed"
    },
    "tags": []
   },
   "outputs": [
    {
     "data": {
      "text/plain": [
       "Index(['transaction_id', 'customer_id', 'merchant_id', 'amount',\n",
       "       'transaction_time', 'is_fraudulent', 'card_type', 'location',\n",
       "       'purchase_category', 'customer_age', 'fraud_type'],\n",
       "      dtype='object')"
      ]
     },
     "execution_count": 9,
     "metadata": {},
     "output_type": "execute_result"
    }
   ],
   "source": [
    "df.columns"
   ]
  },
  {
   "cell_type": "markdown",
   "id": "edd7c9e2",
   "metadata": {
    "papermill": {
     "duration": 0.008901,
     "end_time": "2024-09-27T14:25:52.795791",
     "exception": false,
     "start_time": "2024-09-27T14:25:52.786890",
     "status": "completed"
    },
    "tags": []
   },
   "source": [
    "# Feature Engineering"
   ]
  },
  {
   "cell_type": "code",
   "execution_count": 10,
   "id": "772c4b2f",
   "metadata": {
    "execution": {
     "iopub.execute_input": "2024-09-27T14:25:52.816066Z",
     "iopub.status.busy": "2024-09-27T14:25:52.815667Z",
     "iopub.status.idle": "2024-09-27T14:25:52.838545Z",
     "shell.execute_reply": "2024-09-27T14:25:52.837438Z"
    },
    "papermill": {
     "duration": 0.035946,
     "end_time": "2024-09-27T14:25:52.840887",
     "exception": false,
     "start_time": "2024-09-27T14:25:52.804941",
     "status": "completed"
    },
    "tags": []
   },
   "outputs": [],
   "source": [
    "df['transaction_time']=pd.to_datetime(df['transaction_time'])"
   ]
  },
  {
   "cell_type": "code",
   "execution_count": 11,
   "id": "35e1fde6",
   "metadata": {
    "execution": {
     "iopub.execute_input": "2024-09-27T14:25:52.860920Z",
     "iopub.status.busy": "2024-09-27T14:25:52.860497Z",
     "iopub.status.idle": "2024-09-27T14:25:52.872776Z",
     "shell.execute_reply": "2024-09-27T14:25:52.871696Z"
    },
    "papermill": {
     "duration": 0.024857,
     "end_time": "2024-09-27T14:25:52.875006",
     "exception": false,
     "start_time": "2024-09-27T14:25:52.850149",
     "status": "completed"
    },
    "tags": []
   },
   "outputs": [],
   "source": [
    "df['time_of_day']=[a.hour for a in df['transaction_time']]"
   ]
  },
  {
   "cell_type": "code",
   "execution_count": 12,
   "id": "82c9656a",
   "metadata": {
    "execution": {
     "iopub.execute_input": "2024-09-27T14:25:52.894898Z",
     "iopub.status.busy": "2024-09-27T14:25:52.894458Z",
     "iopub.status.idle": "2024-09-27T14:25:52.904252Z",
     "shell.execute_reply": "2024-09-27T14:25:52.903236Z"
    },
    "papermill": {
     "duration": 0.022262,
     "end_time": "2024-09-27T14:25:52.906501",
     "exception": false,
     "start_time": "2024-09-27T14:25:52.884239",
     "status": "completed"
    },
    "tags": []
   },
   "outputs": [],
   "source": [
    "df['time_of_day'] = pd.cut(df['time_of_day'],\n",
    "                          bins=[-1, 6, 12, 18, 24],\n",
    "                          labels=['night', 'morning', 'afternoon', 'evening'])"
   ]
  },
  {
   "cell_type": "code",
   "execution_count": 13,
   "id": "35ee8dee",
   "metadata": {
    "execution": {
     "iopub.execute_input": "2024-09-27T14:25:52.926904Z",
     "iopub.status.busy": "2024-09-27T14:25:52.926515Z",
     "iopub.status.idle": "2024-09-27T14:25:52.936980Z",
     "shell.execute_reply": "2024-09-27T14:25:52.935902Z"
    },
    "papermill": {
     "duration": 0.023043,
     "end_time": "2024-09-27T14:25:52.939154",
     "exception": false,
     "start_time": "2024-09-27T14:25:52.916111",
     "status": "completed"
    },
    "tags": []
   },
   "outputs": [
    {
     "data": {
      "text/plain": [
       "1       afternoon\n",
       "2       afternoon\n",
       "8           night\n",
       "11        morning\n",
       "14        evening\n",
       "          ...    \n",
       "7941        night\n",
       "7943      morning\n",
       "7946      morning\n",
       "7950      evening\n",
       "7951        night\n",
       "Name: time_of_day, Length: 3539, dtype: category\n",
       "Categories (4, object): ['night' < 'morning' < 'afternoon' < 'evening']"
      ]
     },
     "execution_count": 13,
     "metadata": {},
     "output_type": "execute_result"
    }
   ],
   "source": [
    "df['time_of_day']"
   ]
  },
  {
   "cell_type": "code",
   "execution_count": 14,
   "id": "8d59f6a2",
   "metadata": {
    "execution": {
     "iopub.execute_input": "2024-09-27T14:25:52.959279Z",
     "iopub.status.busy": "2024-09-27T14:25:52.958746Z",
     "iopub.status.idle": "2024-09-27T14:25:53.225315Z",
     "shell.execute_reply": "2024-09-27T14:25:53.224114Z"
    },
    "papermill": {
     "duration": 0.279232,
     "end_time": "2024-09-27T14:25:53.227605",
     "exception": false,
     "start_time": "2024-09-27T14:25:52.948373",
     "status": "completed"
    },
    "tags": []
   },
   "outputs": [
    {
     "name": "stderr",
     "output_type": "stream",
     "text": [
      "/tmp/ipykernel_17/3656278072.py:2: FutureWarning: The default of observed=False is deprecated and will be changed to True in a future version of pandas. Pass observed=False to retain current behavior or observed=True to adopt the future default and silence this warning.\n",
      "  harmful_counts = df.groupby('time_of_day')['is_fraudulent'].sum()\n"
     ]
    },
    {
     "data": {
      "image/png": "[encoded data removed]",
      "text/plain": [
       "<Figure size 640x480 with 1 Axes>"
      ]
     },
     "metadata": {},
     "output_type": "display_data"
    }
   ],
   "source": [
    "import matplotlib.pyplot as plt\n",
    "harmful_counts = df.groupby('time_of_day')['is_fraudulent'].sum()\n",
    "harmful_counts.plot(kind='bar')\n",
    "plt.xlabel('Time of Day')\n",
    "plt.ylabel('Number of Fraudulent Transactions')\n",
    "plt.title('Fradulent Transactions by Time of Day')\n",
    "plt.show()"
   ]
  },
  {
   "cell_type": "markdown",
   "id": "ff6d8aef",
   "metadata": {
    "papermill": {
     "duration": 0.009579,
     "end_time": "2024-09-27T14:25:53.247130",
     "exception": false,
     "start_time": "2024-09-27T14:25:53.237551",
     "status": "completed"
    },
    "tags": []
   },
   "source": [
    "# Preprocess the dataset"
   ]
  },
  {
   "cell_type": "code",
   "execution_count": 15,
   "id": "b34cc4bd",
   "metadata": {
    "execution": {
     "iopub.execute_input": "2024-09-27T14:25:53.268922Z",
     "iopub.status.busy": "2024-09-27T14:25:53.267941Z",
     "iopub.status.idle": "2024-09-27T14:25:53.446327Z",
     "shell.execute_reply": "2024-09-27T14:25:53.445129Z"
    },
    "papermill": {
     "duration": 0.192031,
     "end_time": "2024-09-27T14:25:53.448969",
     "exception": false,
     "start_time": "2024-09-27T14:25:53.256938",
     "status": "completed"
    },
    "tags": []
   },
   "outputs": [
    {
     "name": "stdout",
     "output_type": "stream",
     "text": [
      "<class 'pandas.core.frame.DataFrame'>\n",
      "Index: 3539 entries, 1 to 7951\n",
      "Data columns (total 12 columns):\n",
      " #   Column             Non-Null Count  Dtype         \n",
      "---  ------             --------------  -----         \n",
      " 0   transaction_id     3539 non-null   float64       \n",
      " 1   customer_id        3539 non-null   float64       \n",
      " 2   merchant_id        3539 non-null   float64       \n",
      " 3   amount             3539 non-null   float64       \n",
      " 4   transaction_time   3539 non-null   datetime64[ns]\n",
      " 5   is_fraudulent      3539 non-null   float64       \n",
      " 6   card_type          3539 non-null   int64         \n",
      " 7   location           3539 non-null   int64         \n",
      " 8   purchase_category  3539 non-null   int64         \n",
      " 9   customer_age       3539 non-null   float64       \n",
      " 10  fraud_type         3539 non-null   object        \n",
      " 11  time_of_day        3539 non-null   int64         \n",
      "dtypes: datetime64[ns](1), float64(6), int64(4), object(1)\n",
      "memory usage: 359.4+ KB\n"
     ]
    }
   ],
   "source": [
    "#Ignoring the PII such as `transaction_id`,`customer_id`,`merchant_id`\n",
    "features=['amount','card_type','location','purchase_category','customer_age','time_of_day']\n",
    "d=['is_fraudulent','fraud_type']\n",
    "l={}\n",
    "from sklearn.preprocessing import LabelEncoder\n",
    "for i in features:\n",
    "    if df[i].dtype=='object' or df[i].dtype=='category':\n",
    "        le=LabelEncoder()\n",
    "        df[i]=le.fit_transform(df[i])\n",
    "        l[i]=le\n",
    "df.info()"
   ]
  },
  {
   "cell_type": "code",
   "execution_count": 16,
   "id": "81a3c292",
   "metadata": {
    "execution": {
     "iopub.execute_input": "2024-09-27T14:25:53.471071Z",
     "iopub.status.busy": "2024-09-27T14:25:53.470637Z",
     "iopub.status.idle": "2024-09-27T14:25:53.476977Z",
     "shell.execute_reply": "2024-09-27T14:25:53.475922Z"
    },
    "papermill": {
     "duration": 0.020095,
     "end_time": "2024-09-27T14:25:53.479217",
     "exception": false,
     "start_time": "2024-09-27T14:25:53.459122",
     "status": "completed"
    },
    "tags": []
   },
   "outputs": [],
   "source": [
    "fraud_type=LabelEncoder()\n",
    "df['fraud_type']=fraud_type.fit_transform(df['fraud_type'])"
   ]
  },
  {
   "cell_type": "code",
   "execution_count": 17,
   "id": "72906e6e",
   "metadata": {
    "execution": {
     "iopub.execute_input": "2024-09-27T14:25:53.500496Z",
     "iopub.status.busy": "2024-09-27T14:25:53.500091Z",
     "iopub.status.idle": "2024-09-27T14:25:53.518172Z",
     "shell.execute_reply": "2024-09-27T14:25:53.517163Z"
    },
    "papermill": {
     "duration": 0.031282,
     "end_time": "2024-09-27T14:25:53.520426",
     "exception": false,
     "start_time": "2024-09-27T14:25:53.489144",
     "status": "completed"
    },
    "tags": []
   },
   "outputs": [
    {
     "data": {
      "text/html": [
       "<div>\n",
       "<style scoped>\n",
       "    .dataframe tbody tr th:only-of-type {\n",
       "        vertical-align: middle;\n",
       "    }\n",
       "\n",
       "    .dataframe tbody tr th {\n",
       "        vertical-align: top;\n",
       "    }\n",
       "\n",
       "    .dataframe thead th {\n",
       "        text-align: right;\n",
       "    }\n",
       "</style>\n",
       "<table border=\"1\" class=\"dataframe\">\n",
       "  <thead>\n",
       "    <tr style=\"text-align: right;\">\n",
       "      <th></th>\n",
       "      <th>transaction_id</th>\n",
       "      <th>customer_id</th>\n",
       "      <th>merchant_id</th>\n",
       "      <th>amount</th>\n",
       "      <th>transaction_time</th>\n",
       "      <th>is_fraudulent</th>\n",
       "      <th>card_type</th>\n",
       "      <th>location</th>\n",
       "      <th>purchase_category</th>\n",
       "      <th>customer_age</th>\n",
       "      <th>fraud_type</th>\n",
       "      <th>time_of_day</th>\n",
       "    </tr>\n",
       "  </thead>\n",
       "  <tbody>\n",
       "    <tr>\n",
       "      <th>1</th>\n",
       "      <td>2.0</td>\n",
       "      <td>447448.0</td>\n",
       "      <td>2046.0</td>\n",
       "      <td>2222.928</td>\n",
       "      <td>2024-03-30 16:18:00</td>\n",
       "      <td>0.0</td>\n",
       "      <td>0</td>\n",
       "      <td>9</td>\n",
       "      <td>1</td>\n",
       "      <td>62.0</td>\n",
       "      <td>1</td>\n",
       "      <td>0</td>\n",
       "    </tr>\n",
       "    <tr>\n",
       "      <th>2</th>\n",
       "      <td>3.0</td>\n",
       "      <td>975001.0</td>\n",
       "      <td>2067.0</td>\n",
       "      <td>7509.832</td>\n",
       "      <td>2024-03-07 18:27:00</td>\n",
       "      <td>0.0</td>\n",
       "      <td>0</td>\n",
       "      <td>4</td>\n",
       "      <td>1</td>\n",
       "      <td>24.0</td>\n",
       "      <td>1</td>\n",
       "      <td>0</td>\n",
       "    </tr>\n",
       "    <tr>\n",
       "      <th>8</th>\n",
       "      <td>9.0</td>\n",
       "      <td>401388.0</td>\n",
       "      <td>2035.0</td>\n",
       "      <td>3904.200</td>\n",
       "      <td>2024-01-09 00:43:00</td>\n",
       "      <td>0.0</td>\n",
       "      <td>2</td>\n",
       "      <td>6</td>\n",
       "      <td>0</td>\n",
       "      <td>37.0</td>\n",
       "      <td>1</td>\n",
       "      <td>3</td>\n",
       "    </tr>\n",
       "    <tr>\n",
       "      <th>11</th>\n",
       "      <td>12.0</td>\n",
       "      <td>620576.0</td>\n",
       "      <td>2042.0</td>\n",
       "      <td>8069.630</td>\n",
       "      <td>2023-12-17 07:43:00</td>\n",
       "      <td>0.0</td>\n",
       "      <td>1</td>\n",
       "      <td>4</td>\n",
       "      <td>1</td>\n",
       "      <td>33.0</td>\n",
       "      <td>1</td>\n",
       "      <td>2</td>\n",
       "    </tr>\n",
       "    <tr>\n",
       "      <th>14</th>\n",
       "      <td>15.0</td>\n",
       "      <td>679113.0</td>\n",
       "      <td>2019.0</td>\n",
       "      <td>11429.748</td>\n",
       "      <td>2023-09-10 23:01:00</td>\n",
       "      <td>1.0</td>\n",
       "      <td>2</td>\n",
       "      <td>7</td>\n",
       "      <td>0</td>\n",
       "      <td>24.0</td>\n",
       "      <td>2</td>\n",
       "      <td>1</td>\n",
       "    </tr>\n",
       "  </tbody>\n",
       "</table>\n",
       "</div>"
      ],
      "text/plain": [
       "    transaction_id  customer_id  merchant_id     amount    transaction_time  \\\n",
       "1              2.0     447448.0       2046.0   2222.928 2024-03-30 16:18:00   \n",
       "2              3.0     975001.0       2067.0   7509.832 2024-03-07 18:27:00   \n",
       "8              9.0     401388.0       2035.0   3904.200 2024-01-09 00:43:00   \n",
       "11            12.0     620576.0       2042.0   8069.630 2023-12-17 07:43:00   \n",
       "14            15.0     679113.0       2019.0  11429.748 2023-09-10 23:01:00   \n",
       "\n",
       "    is_fraudulent  card_type  location  purchase_category  customer_age  \\\n",
       "1             0.0          0         9                  1          62.0   \n",
       "2             0.0          0         4                  1          24.0   \n",
       "8             0.0          2         6                  0          37.0   \n",
       "11            0.0          1         4                  1          33.0   \n",
       "14            1.0          2         7                  0          24.0   \n",
       "\n",
       "    fraud_type  time_of_day  \n",
       "1            1            0  \n",
       "2            1            0  \n",
       "8            1            3  \n",
       "11           1            2  \n",
       "14           2            1  "
      ]
     },
     "execution_count": 17,
     "metadata": {},
     "output_type": "execute_result"
    }
   ],
   "source": [
    "df.head()"
   ]
  },
  {
   "cell_type": "markdown",
   "id": "fbe3e9dd",
   "metadata": {
    "papermill": {
     "duration": 0.009787,
     "end_time": "2024-09-27T14:25:53.540363",
     "exception": false,
     "start_time": "2024-09-27T14:25:53.530576",
     "status": "completed"
    },
    "tags": []
   },
   "source": [
    "# Is Fraud?"
   ]
  },
  {
   "cell_type": "code",
   "execution_count": 18,
   "id": "2fc39cab",
   "metadata": {
    "execution": {
     "iopub.execute_input": "2024-09-27T14:25:53.562585Z",
     "iopub.status.busy": "2024-09-27T14:25:53.562175Z",
     "iopub.status.idle": "2024-09-27T14:25:53.898206Z",
     "shell.execute_reply": "2024-09-27T14:25:53.897108Z"
    },
    "papermill": {
     "duration": 0.35016,
     "end_time": "2024-09-27T14:25:53.900695",
     "exception": false,
     "start_time": "2024-09-27T14:25:53.550535",
     "status": "completed"
    },
    "tags": []
   },
   "outputs": [],
   "source": [
    "import pandas as pd\n",
    "from sklearn.model_selection import train_test_split\n",
    "from sklearn.metrics import confusion_matrix, roc_curve, roc_auc_score\n",
    "import matplotlib.pyplot as plt\n",
    "from sklearn.linear_model import LogisticRegression\n",
    "from sklearn.tree import DecisionTreeClassifier\n",
    "from sklearn.ensemble import RandomForestClassifier, GradientBoostingClassifier\n",
    "from sklearn.svm import SVC"
   ]
  },
  {
   "cell_type": "code",
   "execution_count": 19,
   "id": "60445a14",
   "metadata": {
    "execution": {
     "iopub.execute_input": "2024-09-27T14:25:53.922663Z",
     "iopub.status.busy": "2024-09-27T14:25:53.922260Z",
     "iopub.status.idle": "2024-09-27T14:25:53.932585Z",
     "shell.execute_reply": "2024-09-27T14:25:53.931732Z"
    },
    "papermill": {
     "duration": 0.023854,
     "end_time": "2024-09-27T14:25:53.934813",
     "exception": false,
     "start_time": "2024-09-27T14:25:53.910959",
     "status": "completed"
    },
    "tags": []
   },
   "outputs": [],
   "source": [
    "X = df[features]\n",
    "y = df['is_fraudulent']\n",
    "\n",
    "X_train, X_test, y_train, y_test = train_test_split(X, y, test_size=0.2, random_state=42)"
   ]
  },
  {
   "cell_type": "code",
   "execution_count": 20,
   "id": "703cce54",
   "metadata": {
    "execution": {
     "iopub.execute_input": "2024-09-27T14:25:53.957137Z",
     "iopub.status.busy": "2024-09-27T14:25:53.956119Z",
     "iopub.status.idle": "2024-09-27T14:25:56.251866Z",
     "shell.execute_reply": "2024-09-27T14:25:56.250821Z"
    },
    "papermill": {
     "duration": 2.309378,
     "end_time": "2024-09-27T14:25:56.254284",
     "exception": false,
     "start_time": "2024-09-27T14:25:53.944906",
     "status": "completed"
    },
    "tags": []
   },
   "outputs": [
    {
     "name": "stdout",
     "output_type": "stream",
     "text": [
      "\n",
      "Confusion Matrix for Logistic Regression:\n",
      "[[492   0]\n",
      " [216   0]]\n",
      "\n",
      "Confusion Matrix for Decision Tree:\n",
      "[[492   0]\n",
      " [  0 216]]\n",
      "\n",
      "Confusion Matrix for Random Forest:\n",
      "[[492   0]\n",
      " [  0 216]]\n",
      "\n",
      "Confusion Matrix for Gradient Boosting:\n",
      "[[485   7]\n",
      " [112 104]]\n",
      "\n",
      "Confusion Matrix for SVM:\n",
      "[[492   0]\n",
      " [216   0]]\n"
     ]
    },
    {
     "data": {
      "image/png": "[encoded data removed]",
      "text/plain": [
       "<Figure size 640x480 with 1 Axes>"
      ]
     },
     "metadata": {},
     "output_type": "display_data"
    }
   ],
   "source": [
    "models = {\n",
    "    \"Logistic Regression\": LogisticRegression(),\n",
    "    \"Decision Tree\": DecisionTreeClassifier(),\n",
    "    \"Random Forest\": RandomForestClassifier(),\n",
    "    \"Gradient Boosting\": GradientBoostingClassifier(),\n",
    "    \"SVM\": SVC(probability=True)  # For ROC curve calculation\n",
    "}\n",
    "\n",
    "for model_name, model in models.items():\n",
    "    model.fit(X_train, y_train)\n",
    "    y_pred = model.predict(X_test)\n",
    "\n",
    "    # Confusion Matrix\n",
    "    cm = confusion_matrix(y_test, y_pred)\n",
    "    print(f\"\\nConfusion Matrix for {model_name}:\\n{cm}\")\n",
    "\n",
    "    # ROC Curve\n",
    "    y_prob = model.predict_proba(X_test)[:, 1]\n",
    "    fpr, tpr, thresholds = roc_curve(y_test, y_prob)\n",
    "    auc = roc_auc_score(y_test, y_prob)\n",
    "\n",
    "    plt.plot(fpr, tpr, label=f\"{model_name} (AUC={auc:.2f})\")\n",
    "    \n",
    "plt.plot([0, 1], [0, 1], 'k--')  # Diagonal line (random guess)\n",
    "plt.xlabel('False Positive Rate')\n",
    "plt.ylabel('True Positive Rate')\n",
    "plt.title('ROC Curve Comparison')\n",
    "plt.legend()\n",
    "plt.show()"
   ]
  },
  {
   "cell_type": "markdown",
   "id": "4c999104",
   "metadata": {
    "papermill": {
     "duration": 0.010728,
     "end_time": "2024-09-27T14:25:56.276380",
     "exception": false,
     "start_time": "2024-09-27T14:25:56.265652",
     "status": "completed"
    },
    "tags": []
   },
   "source": [
    "We can see `Decision Tree` & `Random Forest` has achieved a ROC of 1 on test set,capturing all complex features and providing 100% accurate results"
   ]
  },
  {
   "cell_type": "markdown",
   "id": "0ecc5660",
   "metadata": {
    "papermill": {
     "duration": 0.014314,
     "end_time": "2024-09-27T14:25:56.303291",
     "exception": false,
     "start_time": "2024-09-27T14:25:56.288977",
     "status": "completed"
    },
    "tags": []
   },
   "source": [
    "# Saving the Model"
   ]
  },
  {
   "cell_type": "code",
   "execution_count": 21,
   "id": "4d62a969",
   "metadata": {
    "execution": {
     "iopub.execute_input": "2024-09-27T14:25:56.333921Z",
     "iopub.status.busy": "2024-09-27T14:25:56.333092Z",
     "iopub.status.idle": "2024-09-27T14:25:56.342282Z",
     "shell.execute_reply": "2024-09-27T14:25:56.341280Z"
    },
    "papermill": {
     "duration": 0.026788,
     "end_time": "2024-09-27T14:25:56.344556",
     "exception": false,
     "start_time": "2024-09-27T14:25:56.317768",
     "status": "completed"
    },
    "tags": []
   },
   "outputs": [],
   "source": [
    "import pickle\n",
    "for i in l.keys():\n",
    "    with open(f'{i}.pkl', 'wb') as f:\n",
    "        pickle.dump(l[i], f)\n",
    "\n",
    "with open('is_fraud.pkl', 'wb') as f:\n",
    "    pickle.dump(models['Decision Tree'], f)"
   ]
  },
  {
   "cell_type": "markdown",
   "id": "059235bd",
   "metadata": {
    "papermill": {
     "duration": 0.010899,
     "end_time": "2024-09-27T14:25:56.367361",
     "exception": false,
     "start_time": "2024-09-27T14:25:56.356462",
     "status": "completed"
    },
    "tags": []
   },
   "source": [
    "# Advanced Analysis\n",
    "Fraud Type "
   ]
  },
  {
   "cell_type": "code",
   "execution_count": 22,
   "id": "a231e614",
   "metadata": {
    "execution": {
     "iopub.execute_input": "2024-09-27T14:25:56.392374Z",
     "iopub.status.busy": "2024-09-27T14:25:56.391871Z",
     "iopub.status.idle": "2024-09-27T14:25:56.399129Z",
     "shell.execute_reply": "2024-09-27T14:25:56.397895Z"
    },
    "papermill": {
     "duration": 0.023491,
     "end_time": "2024-09-27T14:25:56.402271",
     "exception": false,
     "start_time": "2024-09-27T14:25:56.378780",
     "status": "completed"
    },
    "tags": []
   },
   "outputs": [],
   "source": [
    "import pandas as pd\n",
    "from sklearn.model_selection import train_test_split\n",
    "from sklearn.metrics import classification_report, confusion_matrix, accuracy_score\n",
    "import matplotlib.pyplot as plt\n",
    "from sklearn.linear_model import LogisticRegression\n",
    "from sklearn.tree import DecisionTreeClassifier\n",
    "from sklearn.ensemble import RandomForestClassifier, GradientBoostingClassifier\n",
    "from sklearn.svm import SVC"
   ]
  },
  {
   "cell_type": "code",
   "execution_count": 23,
   "id": "78ee5e2f",
   "metadata": {
    "execution": {
     "iopub.execute_input": "2024-09-27T14:25:56.439113Z",
     "iopub.status.busy": "2024-09-27T14:25:56.438639Z",
     "iopub.status.idle": "2024-09-27T14:25:56.449886Z",
     "shell.execute_reply": "2024-09-27T14:25:56.448372Z"
    },
    "papermill": {
     "duration": 0.032619,
     "end_time": "2024-09-27T14:25:56.453682",
     "exception": false,
     "start_time": "2024-09-27T14:25:56.421063",
     "status": "completed"
    },
    "tags": []
   },
   "outputs": [],
   "source": [
    "X = df[features]  \n",
    "y = df['fraud_type']\n",
    "\n",
    "X_train, X_test, y_train, y_test = train_test_split(X, y, test_size=0.2, random_state=42)"
   ]
  },
  {
   "cell_type": "code",
   "execution_count": 24,
   "id": "49e0e3f6",
   "metadata": {
    "execution": {
     "iopub.execute_input": "2024-09-27T14:25:56.483106Z",
     "iopub.status.busy": "2024-09-27T14:25:56.482678Z",
     "iopub.status.idle": "2024-09-27T14:25:59.256205Z",
     "shell.execute_reply": "2024-09-27T14:25:59.255011Z"
    },
    "papermill": {
     "duration": 2.789892,
     "end_time": "2024-09-27T14:25:59.259704",
     "exception": false,
     "start_time": "2024-09-27T14:25:56.469812",
     "status": "completed"
    },
    "tags": []
   },
   "outputs": [
    {
     "name": "stdout",
     "output_type": "stream",
     "text": [
      "\n",
      "Classification Report for Logistic Regression:\n",
      "              precision    recall  f1-score   support\n",
      "\n",
      "           0       0.24      0.32      0.27       160\n",
      "           1       0.24      0.16      0.19       141\n",
      "           2       0.25      0.19      0.21       140\n",
      "           3       0.22      0.45      0.30       140\n",
      "           4       0.41      0.06      0.10       127\n",
      "\n",
      "    accuracy                           0.24       708\n",
      "   macro avg       0.27      0.23      0.21       708\n",
      "weighted avg       0.27      0.24      0.22       708\n",
      "\n",
      "Accuracy: 0.24\n",
      "\n",
      "Confusion Matrix for Logistic Regression:\n",
      "[[51 15 31 58  5]\n",
      " [53 22 12 53  1]\n",
      " [42 11 26 61  0]\n",
      " [36 21 16 63  4]\n",
      " [29 24 20 47  7]]\n",
      "\n",
      "Classification Report for Decision Tree:\n",
      "              precision    recall  f1-score   support\n",
      "\n",
      "           0       1.00      1.00      1.00       160\n",
      "           1       0.99      1.00      1.00       141\n",
      "           2       1.00      1.00      1.00       140\n",
      "           3       1.00      0.99      1.00       140\n",
      "           4       1.00      1.00      1.00       127\n",
      "\n",
      "    accuracy                           1.00       708\n",
      "   macro avg       1.00      1.00      1.00       708\n",
      "weighted avg       1.00      1.00      1.00       708\n",
      "\n",
      "Accuracy: 1.00\n",
      "\n",
      "Confusion Matrix for Decision Tree:\n",
      "[[160   0   0   0   0]\n",
      " [  0 141   0   0   0]\n",
      " [  0   0 140   0   0]\n",
      " [  0   1   0 139   0]\n",
      " [  0   0   0   0 127]]\n",
      "\n",
      "Classification Report for Random Forest:\n",
      "              precision    recall  f1-score   support\n",
      "\n",
      "           0       1.00      1.00      1.00       160\n",
      "           1       1.00      1.00      1.00       141\n",
      "           2       1.00      1.00      1.00       140\n",
      "           3       1.00      0.99      1.00       140\n",
      "           4       0.99      1.00      1.00       127\n",
      "\n",
      "    accuracy                           1.00       708\n",
      "   macro avg       1.00      1.00      1.00       708\n",
      "weighted avg       1.00      1.00      1.00       708\n",
      "\n",
      "Accuracy: 1.00\n",
      "\n",
      "Confusion Matrix for Random Forest:\n",
      "[[160   0   0   0   0]\n",
      " [  0 141   0   0   0]\n",
      " [  0   0 140   0   0]\n",
      " [  0   0   0 139   1]\n",
      " [  0   0   0   0 127]]\n",
      "\n",
      "Classification Report for Gradient Boosting:\n",
      "              precision    recall  f1-score   support\n",
      "\n",
      "           0       0.71      0.77      0.74       160\n",
      "           1       0.85      0.79      0.82       141\n",
      "           2       0.85      0.77      0.81       140\n",
      "           3       0.83      0.89      0.86       140\n",
      "           4       0.74      0.72      0.73       127\n",
      "\n",
      "    accuracy                           0.79       708\n",
      "   macro avg       0.80      0.79      0.79       708\n",
      "weighted avg       0.79      0.79      0.79       708\n",
      "\n",
      "Accuracy: 0.79\n",
      "\n",
      "Confusion Matrix for Gradient Boosting:\n",
      "[[123   9   7   7  14]\n",
      " [ 14 112   1   9   5]\n",
      " [ 16   1 108   5  10]\n",
      " [  3   4   4 125   4]\n",
      " [ 18   5   7   5  92]]\n",
      "\n",
      "Classification Report for SVM:\n",
      "              precision    recall  f1-score   support\n",
      "\n",
      "           0       0.00      0.00      0.00       160\n",
      "           1       0.21      0.45      0.29       141\n",
      "           2       0.00      0.00      0.00       140\n",
      "           3       0.23      0.66      0.35       140\n",
      "           4       0.38      0.02      0.04       127\n",
      "\n",
      "    accuracy                           0.23       708\n",
      "   macro avg       0.16      0.23      0.14       708\n",
      "weighted avg       0.16      0.23      0.13       708\n",
      "\n",
      "Accuracy: 0.23\n",
      "\n",
      "Confusion Matrix for SVM:\n",
      "[[ 0 63  0 94  3]\n",
      " [ 0 64  0 77  0]\n",
      " [ 0 64  0 74  2]\n",
      " [ 0 47  0 93  0]\n",
      " [ 0 65  0 59  3]]\n"
     ]
    },
    {
     "name": "stderr",
     "output_type": "stream",
     "text": [
      "/opt/conda/lib/python3.10/site-packages/sklearn/metrics/_classification.py:1344: UndefinedMetricWarning: Precision and F-score are ill-defined and being set to 0.0 in labels with no predicted samples. Use `zero_division` parameter to control this behavior.\n",
      "  _warn_prf(average, modifier, msg_start, len(result))\n",
      "/opt/conda/lib/python3.10/site-packages/sklearn/metrics/_classification.py:1344: UndefinedMetricWarning: Precision and F-score are ill-defined and being set to 0.0 in labels with no predicted samples. Use `zero_division` parameter to control this behavior.\n",
      "  _warn_prf(average, modifier, msg_start, len(result))\n",
      "/opt/conda/lib/python3.10/site-packages/sklearn/metrics/_classification.py:1344: UndefinedMetricWarning: Precision and F-score are ill-defined and being set to 0.0 in labels with no predicted samples. Use `zero_division` parameter to control this behavior.\n",
      "  _warn_prf(average, modifier, msg_start, len(result))\n"
     ]
    }
   ],
   "source": [
    "models = {\n",
    "    \"Logistic Regression\": LogisticRegression(multi_class='multinomial',max_iter=1000),\n",
    "    \"Decision Tree\": DecisionTreeClassifier(),\n",
    "    \"Random Forest\": RandomForestClassifier(),\n",
    "    \"Gradient Boosting\": GradientBoostingClassifier(),\n",
    "    \"SVM\": SVC()\n",
    "}\n",
    "\n",
    "for model_name, model in models.items():\n",
    "    model.fit(X_train, y_train)\n",
    "    y_pred = model.predict(X_test)\n",
    "\n",
    "    # Classification Report\n",
    "    report = classification_report(y_test, y_pred)\n",
    "    print(f\"\\nClassification Report for {model_name}:\\n{report}\")\n",
    "\n",
    "    # Accuracy\n",
    "    accuracy = accuracy_score(y_test, y_pred)\n",
    "    print(f\"Accuracy: {accuracy:.2f}\")\n",
    "\n",
    "    # Confusion Matrix (optional)\n",
    "    cm = confusion_matrix(y_test, y_pred)\n",
    "    print(f\"\\nConfusion Matrix for {model_name}:\\n{cm}\")"
   ]
  },
  {
   "cell_type": "markdown",
   "id": "087d8621",
   "metadata": {
    "papermill": {
     "duration": 0.011189,
     "end_time": "2024-09-27T14:25:59.282569",
     "exception": false,
     "start_time": "2024-09-27T14:25:59.271380",
     "status": "completed"
    },
    "tags": []
   },
   "source": [
    "We can see Decision Tree & Random Forest has achieved accuracy of 100% on test set"
   ]
  },
  {
   "cell_type": "code",
   "execution_count": 25,
   "id": "588a9441",
   "metadata": {
    "execution": {
     "iopub.execute_input": "2024-09-27T14:25:59.307228Z",
     "iopub.status.busy": "2024-09-27T14:25:59.306805Z",
     "iopub.status.idle": "2024-09-27T14:25:59.313059Z",
     "shell.execute_reply": "2024-09-27T14:25:59.312094Z"
    },
    "papermill": {
     "duration": 0.021185,
     "end_time": "2024-09-27T14:25:59.315170",
     "exception": false,
     "start_time": "2024-09-27T14:25:59.293985",
     "status": "completed"
    },
    "tags": []
   },
   "outputs": [],
   "source": [
    "with open('fraud_type_le.pkl', 'wb') as f:\n",
    "    pickle.dump(fraud_type, f)\n",
    "with open('fraud_type.pkl', 'wb') as f:\n",
    "    pickle.dump(models['Decision Tree'], f)"
   ]
  },
  {
   "cell_type": "markdown",
   "id": "2e576d77",
   "metadata": {
    "papermill": {
     "duration": 0.011503,
     "end_time": "2024-09-27T14:25:59.338968",
     "exception": false,
     "start_time": "2024-09-27T14:25:59.327465",
     "status": "completed"
    },
    "tags": []
   },
   "source": [
    "# Saving the model for future Predictions"
   ]
  },
  {
   "cell_type": "code",
   "execution_count": null,
   "id": "11f4fbfe",
   "metadata": {
    "papermill": {
     "duration": 0.011222,
     "end_time": "2024-09-27T14:25:59.363166",
     "exception": false,
     "start_time": "2024-09-27T14:25:59.351944",
     "status": "completed"
    },
    "tags": []
   },
   "outputs": [],
   "source": []
  }
 ],
 "metadata": {
  "kaggle": {
   "accelerator": "none",
   "dataSources": [
    {
     "datasetId": 4812638,
     "sourceId": 8215920,
     "sourceType": "datasetVersion"
    }
   ],
   "dockerImageVersionId": 30775,
   "isGpuEnabled": false,
   "isInternetEnabled": true,
   "language": "python",
   "sourceType": "notebook"
  },
  "kernelspec": {
   "display_name": "Python 3",
   "language": "python",
   "name": "python3"
  },
  "language_info": {
   "codemirror_mode": {
    "name": "ipython",
    "version": 3
   },
   "file_extension": ".py",
   "mimetype": "text/x-python",
   "name": "python",
   "nbconvert_exporter": "python",
   "pygments_lexer": "ipython3",
   "version": "3.10.14"
  },
  "papermill": {
   "default_parameters": {},
   "duration": 13.14546,
   "end_time": "2024-09-27T14:25:59.995849",
   "environment_variables": {},
   "exception": null,
   "input_path": "__notebook__.ipynb",
   "output_path": "__notebook__.ipynb",
   "parameters": {},
   "start_time": "2024-09-27T14:25:46.850389",
   "version": "2.6.0"
  }
 },
 "nbformat": 4,
 "nbformat_minor": 5
}
